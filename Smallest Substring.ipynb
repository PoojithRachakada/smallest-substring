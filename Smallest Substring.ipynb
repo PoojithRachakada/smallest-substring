{
 "cells": [
  {
   "cell_type": "markdown",
   "metadata": {},
   "source": [
    "# Smallest Substring"
   ]
  },
  {
   "cell_type": "markdown",
   "metadata": {},
   "source": [
    "# Poojith Reddy Rachakada"
   ]
  },
  {
   "cell_type": "code",
   "execution_count": 8,
   "metadata": {},
   "outputs": [
    {
     "name": "stdout",
     "output_type": "stream",
     "text": [
      "abcda\n",
      "4\n"
     ]
    }
   ],
   "source": [
    "NO_OF_CHARS = 256\n",
    "def max_distinct_char(str, n): \n",
    "\tcount = [0] * NO_OF_CHARS \n",
    "\tfor i in range(n): \n",
    "\t\tcount[ord(str[i])] += 1\n",
    "\t\n",
    "\tmax_distinct = 0\n",
    "\tfor i in range(NO_OF_CHARS): \n",
    "\t\tif (count[i] != 0): \n",
    "\t\t\tmax_distinct += 1\t\n",
    "\t\n",
    "\treturn max_distinct \n",
    "\n",
    "def smallesteSubstr_maxDistictChar(str): \n",
    "\tn = len(str)\n",
    "\tmax_distinct = max_distinct_char(str, n) \n",
    "\tminl = n\n",
    "\tfor i in range(n): \n",
    "\t\tfor j in range(n): \n",
    "\t\t\tsubs = str[i:j] \n",
    "\t\t\tsubs_lenght = len(subs) \n",
    "\t\t\tsub_distinct_char = max_distinct_char(subs,subs_lenght)  \n",
    "\t\t\tif (subs_lenght < minl and\n",
    "\t\t\t\tmax_distinct == sub_distinct_char): \n",
    "\t\t\t\tminl = subs_lenght \n",
    "\n",
    "\treturn minl \n",
    "if __name__ == \"__main__\": \n",
    "\tstr =input()\n",
    "\tl = smallesteSubstr_maxDistictChar(str); \n",
    "\tprint(l) \n"
   ]
  },
  {
   "cell_type": "code",
   "execution_count": null,
   "metadata": {},
   "outputs": [],
   "source": []
  }
 ],
 "metadata": {
  "kernelspec": {
   "display_name": "Python 3",
   "language": "python",
   "name": "python3"
  },
  "language_info": {
   "codemirror_mode": {
    "name": "ipython",
    "version": 3
   },
   "file_extension": ".py",
   "mimetype": "text/x-python",
   "name": "python",
   "nbconvert_exporter": "python",
   "pygments_lexer": "ipython3",
   "version": "3.8.5"
  }
 },
 "nbformat": 4,
 "nbformat_minor": 4
}
